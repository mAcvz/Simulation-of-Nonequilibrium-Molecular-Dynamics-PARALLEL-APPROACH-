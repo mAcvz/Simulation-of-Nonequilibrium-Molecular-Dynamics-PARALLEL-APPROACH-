{
 "cells": [
  {
   "cell_type": "markdown",
   "metadata": {},
   "source": [
    "### System setup: object instantiation "
   ]
  },
  {
   "cell_type": "code",
   "execution_count": 1,
   "metadata": {},
   "outputs": [
    {
     "name": "stdout",
     "output_type": "stream",
     "text": [
      "# number of boxes mx = 16, my = 16, mz = 16\n",
      "# mean (kinetic) temperature kt =   0.7000 \n",
      "# integration time step dt =   0.0050\n",
      "# number of time steps for this run nstep = 10\n",
      "# creating EQ object, cpu =   1.7359\n",
      "# sides of the rectangular MD-box L = [  51.0707  51.0707  51.0707 ]\n",
      "# number of particles  N = 114688\n",
      "# density rho =   0.9840   (  0.9840)\n",
      "# potential cut-off radius  rcut =   3.0000 *sigma\n",
      "# lateral size of slicing Deltaz =   1.5960\n"
     ]
    }
   ],
   "source": [
    "from numpy import zeros, pi, sin, cos, empty, array, float64\n",
    "#original \n",
    "from nvtg2_lj import LJ\n",
    "from nvtg_write import *\n",
    "from time import process_time\n",
    "from  pickle import dump, load, HIGHEST_PROTOCOL\n",
    "\n",
    "# from numba import jit\n",
    "if __name__ == \"__main__\":\n",
    "    dir=\"./RUN/\"\n",
    "# r-parameters # defaults\n",
    "    rho  = 0.984   #  density of the solid phase\n",
    "    mx   = 16#6       #  number of cells along x\n",
    "    my   = 16#6 + 2    #  number of cells along y\n",
    "    mz   = 16 #12+ 2   #  number of cells along z\n",
    "    kt   = 0.7     #  temperature\n",
    "    dk0  = 0.00    #  delta T at equilibrium\n",
    "    dkt  = 0.70    #  delta T for melting region\n",
    "    dt   = 0.005   #  timestep (LJ units)\n",
    "    gforce = -0.1  #  vaule of gravity field\n",
    "    freq =  2      #  printing frequency\n",
    "    lther=  3      #  width of thermostat region\n",
    "    nstep= 10      #  number of multiples of 'freq' time steps \n",
    "    pfile = dir + \"fccmd.pickle\"\n",
    "    print( \"# number of boxes mx = %d, my = %d, mz = %d\" % (mx, my, mz) )\n",
    "    print( \"# mean (kinetic) temperature kt = %8.4f \" % (kt) )\n",
    "    print( \"# integration time step dt = %8.4f\" % dt )\n",
    "    print( \"# number of time steps for this run nstep = %d\" % (nstep) )    \n",
    "    t0 = process_time()\n",
    "    IN = LJ(rho, mx, my, mz, gforce, nstep*freq)\n",
    "    print(\"# creating EQ object, cpu = %8.4f\" % (process_time()-t0) )\n",
    "    N = IN.npart\n",
    "    Na = 3*N // 25\n",
    "    rhofact = IN.lb / (IN.Lx * IN.Ly * IN.Lz)\n",
    "    print( \"# sides of the rectangular MD-box L = [ %8.4f %8.4f %8.4f ]\" % (IN.Lx, IN.Ly, IN.Lz) )\n",
    "    print( \"# number of particles  N = %d\" % N)\n",
    "    print( \"# density rho = %8.4f   (%8.4f)\" % (IN.rho, rho))\n",
    "    print( \"# potential cut-off radius  rcut = %8.4f *sigma\" % IN.rcut)\n",
    "    print( \"# lateral size of slicing Deltaz = %8.4f\" % (IN.Lz / IN.lb))"
   ]
  },
  {
   "cell_type": "code",
   "execution_count": 2,
   "metadata": {},
   "outputs": [
    {
     "name": "stdout",
     "output_type": "stream",
     "text": [
      "# lattice lenghts (ax,ay,az) = (1.5959586353904496, 1.5959586353904496, 1.5959586353904496)\n",
      "# (mx, my, mz) = (32, 28, 32)\n",
      "# number of lattice cells = 28672\n",
      "# number of particles = 114688\n",
      "# md-box sides [Lx, Ly, Lz ]= (51.070676332494386, 51.070676332494386, 51.070676332494386)\n",
      "# end of initial fcc lattice construction npart = 114688\n"
     ]
    }
   ],
   "source": [
    "    # starting from (fcc) lattice\n",
    "    IN.fcc()\n",
    "    pas = 0\n",
    "    #write_input(IN, N, pas, conf_out=dir+\"conf_fcc0984.b\")\n",
    "    writexyz(IN, N, Na)"
   ]
  },
  {
   "cell_type": "code",
   "execution_count": 4,
   "metadata": {},
   "outputs": [
    {
     "name": "stdout",
     "output_type": "stream",
     "text": [
      "test 1 -869226.7015878024 -1582637.9261371403\n",
      "test 2 -271882.6634644713 -8543.583388327661\n",
      "# velocities sampled from maxwell distribution at timestep 0\n",
      "# initial conditions step = 0, cpu =   0.6024\n"
     ]
    }
   ],
   "source": [
    "    mode=2\n",
    "    #pas = read_input(IN, N, conf_in=dir+\"conf_fcc0984.b\")\n",
    "    t0 = process_time()    \n",
    "    (enep, enek, virial, vcmx, vcmy, vcmz) = IN.eqmdi( N, Na, mx, my, mz, kt, pas, mode)\n",
    "    print( \"# initial conditions step = %d, cpu = %8.4f\" % (pas, process_time()-t0) )"
   ]
  },
  {
   "cell_type": "code",
   "execution_count": 5,
   "metadata": {},
   "outputs": [],
   "source": [
    "    write_input(IN, N, nstep, conf_out=dir+\"conf_fcc0984.b\")"
   ]
  },
  {
   "cell_type": "code",
   "execution_count": 7,
   "metadata": {},
   "outputs": [
    {
     "name": "stdout",
     "output_type": "stream",
     "text": [
      "# starting eqmd trajectory\n",
      "\n",
      "    'pas'   'enep'     'enek'   'enet'      'virial'   'vcm' \n",
      "      0.10   -6.8751    0.3410   -6.5341030   -1.317      5.8e-12  -1e+03 -1.4e-12\n",
      "      0.11   -6.9208    0.3863   -6.5344295   -2.064      5.5e-12 -1.1e+03 -2.1e-12\n",
      "      0.12   -6.9633    0.4288   -6.5344936   -2.787      9.1e-12 -1.3e+03 1.6e-12\n",
      "      0.13   -6.9951    0.4607   -6.5343642   -3.347      7.8e-12 -1.4e+03 -2.5e-12\n",
      "      0.14   -7.0142    0.4801   -6.5341222   -3.701      6.3e-12 -1.5e+03 1.6e-12\n",
      "      0.15   -7.0225    0.4887   -6.5338371   -3.868      8.8e-12 -1.6e+03 9.8e-13\n",
      "      0.16   -7.0238    0.4902   -6.5335595   -3.903      5.1e-12 -1.7e+03 -3.2e-13\n",
      "      0.17   -7.0220    0.4887   -6.5333203   -3.873      4.9e-12 -1.8e+03 -1.9e-13\n",
      "      0.18   -7.0207    0.4876   -6.5331337   -3.837      7.8e-12 -1.9e+03 -4.4e-12\n",
      "      0.19   -7.0221    0.4891   -6.5330017   -3.836      9.9e-12  -2e+03 3.3e-13\n",
      "      0.20   -7.0272    0.4942   -6.5329180   -3.895      5.9e-12 -2.1e+03 -1.9e-12\n",
      "# (IN)-Equilibrium run, cpu =  10.7901\n",
      "# ending initial equilibrium run  <ep>=-1622097.7  <ek>=123661.4196   T=   0.719  P=-1087775.018\n",
      "\n"
     ]
    }
   ],
   "source": [
    "    nstep= 10      #  number of multiples of 'freq' time steps \n",
    "    # Equilibrium run with temperature from maxwellian sampling\n",
    "    print(\"# starting eqmd trajectory\\n\")\n",
    "    print( \"    'pas'   'enep'     'enek'   'enet'      'virial'   'vcm' \")\n",
    "    print(\" %9.2f %9.4f %9.4f %12.7f %8.3f %12.2g %7.2g %7.2g\" % (pas*dt,enep, enek, enep+enek, virial, vcmx, vcmy, vcmz) )\n",
    "    t0 = process_time()\n",
    "    for it in range(nstep):\n",
    "        (t, enep, enek, virial, vcmx, vcmy, vcmz) = IN.eqmdr( N, Na, mx, my, mz, kt, pas, dt, freq)\n",
    "        print(\" %9.2f %9.4f %9.4f %12.7f %8.3f %12.2g %7.2g %7.2g\" % (t,enep, enek, enep+enek, virial, vcmx, vcmy, vcmz) )\n",
    "        pas += freq    \n",
    "    print( \"# (IN)-Equilibrium run, cpu = %8.4f\" % (process_time()-t0) )\n",
    "    g=3*N-3\n",
    "    nstep *= freq\n",
    "    print( \"# ending initial equilibrium run  <ep>=%6.1f  <ek>=%7.4f   T=%8.3f  P=%8.3f\\n\" % ( IN.ept/nstep, IN.ekt/nstep, 2.*IN.ekt/(nstep*g), IN.pres/nstep) )\n",
    "    # final positions and momenta to file conf_in.b\n",
    "    write_input(IN, N, nstep, conf_out=dir+\"conf_eg0984.b\")\n",
    "    writexyz(IN, N, Na)"
   ]
  },
  {
   "cell_type": "code",
   "execution_count": null,
   "metadata": {},
   "outputs": [],
   "source": [
    "    freq = 20\n",
    "    nstep= 10       #  number of multiples of 'freq' time steps \n",
    "    mode = 2\n",
    "    print(\"check gforce=\",IN.gforce)\n",
    "    t0 = process_time()    \n",
    "    pas = read_input(IN, N, conf_in=dir+\"conf_eg0984.b\")\n",
    "    (enep, enek, virial, vcmx, vcmy, vcmz) = IN.eqmdi( N, Na, mx, my, mz, kt, pas, mode)\n",
    "    print( \"# initial conditions step = %d, cpu = %8.4f\" % (pas, process_time()-t0) )    \n",
    "    # Equilibrium run with temperature from maxwellian sampling\n",
    "    print(\"# starting eqmd trajectory\\n\")\n",
    "    print( \"    'pas'   'enep'     'enek'   'enet'      'virial'   'vcm' \")\n",
    "    print(\"%8.2f  %9.4f %9.4f %12.7f %8.3f %12.2g %7.2g %7.2g\" % (pas*dt,enep, enek, enep+enek, virial, vcmx, vcmy, vcmz) )\n",
    "    t0 = process_time()\n",
    "    for it in range(nstep):\n",
    "        (t, enep, enek, virial, vcmx, vcmy, vcmz) = IN.eqmdr( N, Na, mx, my, mz, kt, pas, dt, freq)\n",
    "        print(\"%8.2f  %9.4f %9.4f %12.7f %8.3f %12.2g %7.2g %7.2g\" % (t,enep, enek, enep+enek, virial, vcmx, vcmy, vcmz) )\n",
    "        pas += freq    \n",
    "    print( \"# (IN)-Equilibrium run, cpu = %8.4f\" % (process_time()-t0) )\n",
    "    g=3*N-3\n",
    "    nstep *= freq\n",
    "    print( \"# ending initial equilibrium run  <ep>=%6.1f  <ek>=%7.4f   T=%8.3f  P=%8.3f\\n\" % ( IN.ept/nstep, IN.ekt/nstep, 2.*IN.ekt/(nstep*g), IN.pres/nstep) )\n",
    "    # final positions and momenta to file conf_in.b\n",
    "    write_input(IN, N, nstep, conf_out=dir+\"conf_eg0984.b\")\n",
    "    writexyz(IN, N, Na)"
   ]
  },
  {
   "cell_type": "code",
   "execution_count": null,
   "metadata": {},
   "outputs": [],
   "source": [
    "    freq = 20\n",
    "    nstep= 50      #  number of multiples of 'freq' time steps \n",
    "    mode = 1\n",
    "    # Xe 1.115\n",
    "    pfile = dir + \"eqmd.pickle\"\n",
    "    print( \"# number of boxes mx = %d, my = %d, mz = %d\" % (mx, my, mz) )\n",
    "    print( \"# mean (kinetic) temperature kt = %8.4f  delta kt= %8.4f\" % (kt, dkt) )\n",
    "    print( \"# integration time step dt = %8.4f\" % dt )\n",
    "    print( \"# number of time steps for this run nst = %d \" % (nstep) )    \n",
    "    if mode == 1:\n",
    "        t0 = process_time()\n",
    "        EQ = LJ(rho, mx, my, mz, gforce, nstep*freq)\n",
    "        print(\"# creating NE object, cpu = %8.4f\" % (process_time()-t0) )\n",
    "        N = EQ.npart\n",
    "        Na = 3*N // 25\n",
    "        print( \"# sides of the rectangular MD-box L = [ %8.4f %8.4f %8.4f ]\" % (EQ.Lx, EQ.Ly, EQ.Lz) )\n",
    "        print( \"# number of particles  N = %d\" % N)\n",
    "        print( \"# density rho = %8.4f   (%8.4f)\" % (EQ.rho, rho) )\n",
    "        print( \"# potential cut-off radius  rcut = %8.4f *sigma\" % EQ.rcut)\n",
    "        print( \"# lateral size of slicing Deltaz = %8.4f\" % (EQ.Lz / EQ.lb))\n",
    "        # initial equilibrated condition\n",
    "        t0 = process_time()\n",
    "        estep = read_input(EQ, N, conf_in=dir+\"conf_eg0984.b\")\n",
    "        print(\"# initial conditions, cpu = %8.4f\" % (process_time()-t0) )\n",
    "        # Non-Equilibrium run with temperature gradient\n",
    "        t0 = process_time()\n",
    "        pas= 0\n",
    "        (enep, enek, etot, heat0, heat1, vcmx, vcmy, vcmz) = EQ.nemdi( N, Na, mx, my, mz, kt, dk0, pas, lther)\n",
    "        print(\"# starting dnemd trajectory\\n\")\n",
    "        print( \"    'pas'   'enep'     'enek'   'enet'      'heatin - heatout'   'vcm' \")\n",
    "        print(\"%8.2f  %9.4f %9.4f %12.7f %8.3f %8.3f %12.2g %7.2g %7.2g\" % (0.,enep, enek, etot, heat0, heat1, vcmx, vcmy, vcmz) )\n",
    "        for it in range(nstep):\n",
    "            (t, enep, enek, etot, heat0, heat1, vcmx, vcmy, vcmz) = EQ.nemdr( N, Na, mx, my, mz, kt, dk0, pas, dt, freq, lther)\n",
    "            print(\"%8.2f  %9.4f %9.4f %12.7f %8.3f %8.3f %12.2g %7.2g %7.2g\" % (t,enep, enek, etot, heat0, heat1, vcmx, vcmy, vcmz) )\n",
    "            pas += freq    \n",
    "        print( \"# (NE)-Equilibrium run, cpu = %8.4f\" % (process_time()-t0) )\n",
    "        g=3*N-3\n",
    "        nstep *= freq\n",
    "        print( \"# ending ne-md equilibrium trajectory  <ep>=%6.1f  <ek>=%7.4f   T=%8.3f  P=%8.3f\\n\" % ( EQ.ept/nstep, EQ.ekt/nstep, 2.*EQ.ekt/(nstep*g), EQ.pres/nstep) )\n",
    "    # final positions and momenta to file conf_in.b\n",
    "        write_input(EQ, N, nstep, conf_out=dir+\"conf_eg0984.b\")\n",
    "        # saving with pickle\n",
    "        with open(pfile, 'wb') as ftrj:\n",
    "            rhofact = EQ.lb / (EQ.Lx * EQ.Ly * EQ.Lz)\n",
    "            dump( (dkt,rhofact,id) , ftrj, HIGHEST_PROTOCOL)\n",
    "            dump( (EQ.heatt,EQ.hstat,EQ.hstbt,EQ.enet,EQ.enkat,EQ.enkbt,EQ.jmazt,EQ.gzt,EQ.jezt), ftrj, HIGHEST_PROTOCOL)"
   ]
  },
  {
   "cell_type": "code",
   "execution_count": null,
   "metadata": {},
   "outputs": [],
   "source": [
    "    writexyz(IN, N, Na)"
   ]
  },
  {
   "cell_type": "markdown",
   "metadata": {},
   "source": [
    "## Non-equilibrium dynamics"
   ]
  },
  {
   "cell_type": "code",
   "execution_count": null,
   "metadata": {},
   "outputs": [],
   "source": [
    "from numpy import zeros, pi, sin, cos, empty, array, float64\n",
    "from nvtg2_lj import LJ\n",
    "from nvtg_write import *\n",
    "from time import process_time\n",
    "from  pickle import dump, load, HIGHEST_PROTOCOL\n",
    "\n",
    "# from numba import jit\n",
    "if __name__ == \"__main__\":\n",
    "    dir=\"./RUN/\"\n",
    "    pfile = dir + \"ngmdA.pickle\"\n",
    "# r-parameters     # defaults\n",
    "    nstep= 200     #  number of multiples of 'freq' time steps \n",
    "    rho  = 0.984   #  density of the solid phase\n",
    "    mx   = 6       #  number of cells along x\n",
    "    my   = 6 + 2   #  number of cells along y\n",
    "    mz   = 12+ 2   #  number of cells along z\n",
    "    kt   = 0.7     #  temperature\n",
    "    dk0  = 0.00    #  delta T at equilibrium\n",
    "    dkt  = 0.70    #  delta T for melting region\n",
    "    dt   = 0.005   #  timestep (LJ units)\n",
    "    gforce = -0.1  #  vaule of gravity field\n",
    "    freq = 10      #  printing frequency\n",
    "    lther=  3      #  width of thermostat region\n",
    "    mode = 1\n",
    "    print( \"# number of boxes mx = %d, my = %d, mz = %d\" % (mx, my, mz) )\n",
    "    print( \"# base (kinetic) temperature kt = %8.4f  delta kt= %8.4f\" % (kt, dkt) )\n",
    "    print( \"# integration time step dt = %8.4f\" % dt )\n",
    "    print( \"# number of time steps for this run nst = %d \" % (nstep) )    \n",
    "    with open(dir+\"trajectoryAg.xyz\", 'w') as dumpf:\n",
    "        t0 = process_time()\n",
    "        NE = LJ(rho, mx, my, mz, gforce, nstep*freq)\n",
    "        print(\"# creating NE object, cpu = %8.4f\" % (process_time()-t0) )\n",
    "        N = NE.npart\n",
    "        Na = 3*N // 25\n",
    "        rhofact = NE.lb / (NE.Lx * NE.Ly * NE.Lz)\n",
    "        print( \"# sides of the rectangular MD-box L = [ %8.4f %8.4f %8.4f ]\" % (NE.Lx, NE.Ly, NE.Lz) )\n",
    "        print( \"# number of particles  N = %d\" % N)\n",
    "        print( \"# density rho = %8.4f   (%8.4f)\" % (NE.rho, rho) )\n",
    "        print( \"# potential cut-off radius  rcut = %8.4f *sigma\" % NE.rcut)\n",
    "        print( \"# lateral size of slicing Deltaz = %8.4f\" % (NE.Lz / NE.lb))\n",
    "        # initial equilibrated condition\n",
    "        t0 = process_time()\n",
    "        estep = read_input(NE, N, conf_in=dir+\"conf_eg0984.b\")\n",
    "        print(\"# initial conditions, cpu = %8.4f\" % (process_time()-t0) )\n",
    "        # Non-Equilibrium run with hot thermostat region\n",
    "        t0 = process_time()\n",
    "        pas= 0\n",
    "        dumpxyz(NE, N, Na, pas, dumpf)\n",
    "        (enep, enek, etot, heat0, heat1, vcmx, vcmy, vcmz) = NE.nemdi( N, Na, mx, my, mz, kt, dkt, pas, lther )\n",
    "        print(\"# starting dnemd trajectory\\n\")\n",
    "        print( \"    'pas'   'enep'     'enek'   'enet'      'heatin - heatout'   'vcm' \")\n",
    "        print(\"%8.2f  %9.4f %9.4f %12.7f %8.3f %8.3f %12.2g %7.2g %7.2g\" % (0.,enep, enek, etot, heat0, heat1, vcmx, vcmy, vcmz) )\n",
    "        for it in range(nstep):\n",
    "            (t, enep, enek, etot, heat0, heat1, vcmx, vcmy, vcmz) = NE.nemdr( N, Na, mx, my, mz, kt, dkt, pas, dt, freq, lther )\n",
    "            print(\"%8.2f  %9.4f %9.4f %12.7f %8.3f %8.3f %12.2g %7.2g %7.2g\" % (t,enep, enek, etot, heat0, heat1, vcmx, vcmy, vcmz) )\n",
    "            pas += freq\n",
    "            # writing \n",
    "            dumpxyz(NE, N, Na, pas, dumpf)\n",
    "    print( \"# Non-Equilibrium run, cpu = %8.4f\" % (process_time()-t0) )\n",
    "    g=3*N-3\n",
    "    nstep *= freq\n",
    "    print( \"# ending ne-md trajectory  <ep>=%6.1f  <ek>=%7.4f   T=%8.3f  P=%8.3f\\n\" % ( NE.ept/nstep, NE.ekt/nstep, 2.*NE.ekt/(nstep*g), NE.pres/nstep) )\n",
    "    # final positions and momenta to file conf_in.b\n",
    "    write_input(NE, N, nstep, conf_out=dir+\"conf_ng0984.b\")\n",
    "    # saving with pickle\n",
    "    with open(pfile, 'wb') as ftrj:\n",
    "        rhofact = NE.lb / (NE.Lx * NE.Ly * NE.Lz)\n",
    "        dump( (dkt,rhofact,id) , ftrj, HIGHEST_PROTOCOL)\n",
    "        dump( (NE.heatt,NE.hstat,NE.hstbt,NE.enet,NE.enkat,NE.enkbt,NE.jmazt,NE.gzt,NE.jezt), ftrj, HIGHEST_PROTOCOL)\n"
   ]
  },
  {
   "cell_type": "markdown",
   "metadata": {},
   "source": [
    "### second part of trajectory"
   ]
  },
  {
   "cell_type": "code",
   "execution_count": null,
   "metadata": {},
   "outputs": [],
   "source": [
    "if __name__ == \"__main__\":\n",
    "    dir=\"./RUN/\"\n",
    "    pfile = dir + \"ngmdB.pickle\"\n",
    "# r-parameters  # defaults\n",
    "    nstep= 1000  #  number of multiples of 'freq' time steps \n",
    "    freq = 200  #  2000\n",
    "    print( \"# number of boxes mx = %d, my = %d, mz = %d\" % (mx, my, mz) )\n",
    "    print( \"# base (kinetic) temperature kt = %8.4f  delta kt= %8.4f\" % (kt, dkt) )\n",
    "    print( \"# integration time step dt = %8.4f\" % dt )\n",
    "    print( \"# number of time steps for this run nst = %d \" % (nstep) )    \n",
    "    with open(dir+\"trajectoryBg.xyz\", 'w') as dumpf:\n",
    "        t0 = process_time()\n",
    "        NE = LJ(rho, mx, my, mz, gforce, nstep*freq)\n",
    "        print(\"# creating NE object, cpu = %8.4f\" % (process_time()-t0) )\n",
    "        N = NE.npart\n",
    "        Na = 3*N // 25\n",
    "        rhofact = NE.lb / (NE.Lx * NE.Ly * NE.Lz)\n",
    "        print( \"# sides of the rectangular MD-box L = [ %8.4f %8.4f %8.4f ]\" % (NE.Lx, NE.Ly, NE.Lz) )\n",
    "        print( \"# number of particles  N = %d\" % N)\n",
    "        print( \"# density rho = %8.4f   (%8.4f)\" % (NE.rho, rho) )\n",
    "        print( \"# potential cut-off radius  rcut = %8.4f *sigma\" % NE.rcut)\n",
    "        print( \"# lateral size of slicing Deltaz = %8.4f\" % (NE.Lz / NE.lb))\n",
    "        # initial equilibrated condition\n",
    "        t0 = process_time()\n",
    "        estep = read_input(NE, N, conf_in=dir+\"conf_ng0984.b\")\n",
    "        print(\"# initial conditions, cpu = %8.4f\" % (process_time()-t0) )\n",
    "        # Non-Equilibrium run with temperature gradient\n",
    "        t0 = process_time()\n",
    "        pas= 0\n",
    "        dumpxyz(NE, N, Na, pas, dumpf)\n",
    "        (enep, enek, etot, heat0, heat1, vcmx, vcmy, vcmz) = NE.nemdi( N, Na, mx, my, mz, kt, dkt, pas, lther )\n",
    "        print(\"# starting dnemd trajectory\\n\")\n",
    "        print( \"    'pas'   'enep'     'enek'   'enet'      'heatin - heatout'   'vcm' \")\n",
    "        print(\" %10.1f %9.4f %9.4f %12.7f %8.3f %8.3f %12.2g %7.2g %7.2g\" % (0.,enep, enek, etot, heat0, heat1, vcmx, vcmy, vcmz) )\n",
    "        for it in range(nstep):\n",
    "            (t, enep, enek, etot, heat0, heat1, vcmx, vcmy, vcmz) = NE.nemdr( N, Na, mx, my, mz, kt, dkt, pas, dt, freq, lther )\n",
    "            print(\" %10.1f %9.4f %9.4f %12.7f %8.3f %8.3f %12.2g %7.2g %7.2g\" % (t,enep, enek, etot, heat0, heat1, vcmx, vcmy, vcmz) )\n",
    "            pas += freq\n",
    "            # writing \n",
    "            dumpxyz(NE, N, Na, pas, dumpf)\n",
    "    print( \"# Non-Equilibrium run, cpu = %8.4f\" % (process_time()-t0) )\n",
    "    g=3*N-3\n",
    "    nstep *= freq\n",
    "    print( \"# ending ne-md trajectory  <ep>=%6.1f  <ek>=%7.4f   T=%8.3f  P=%8.3f\\n\" % ( NE.ept/nstep, NE.ekt/nstep, 2.*NE.ekt/(nstep*g), NE.pres/nstep) )\n",
    "    # final positions and momenta to file conf_in.b\n",
    "    write_input(NE, N, nstep, conf_out=dir+\"conf_ng0984.b\")\n",
    "    # saving with pickle\n",
    "    with open(pfile, 'wb') as ftrj:\n",
    "        rhofact = NE.lb / (NE.Lx * NE.Ly * NE.Lz)\n",
    "        dump( (dkt,rhofact,id) , ftrj, HIGHEST_PROTOCOL)\n",
    "        dump( (NE.heatt,NE.hstat,NE.hstbt,NE.enet,NE.enkat,NE.enkbt,NE.jmazt,NE.gzt,NE.jezt), ftrj, HIGHEST_PROTOCOL)\n"
   ]
  }
 ],
 "metadata": {
  "kernelspec": {
   "display_name": "Python 3 (ipykernel)",
   "language": "python",
   "name": "python3"
  },
  "language_info": {
   "codemirror_mode": {
    "name": "ipython",
    "version": 3
   },
   "file_extension": ".py",
   "mimetype": "text/x-python",
   "name": "python",
   "nbconvert_exporter": "python",
   "pygments_lexer": "ipython3",
   "version": "3.9.12"
  },
  "widgets": {
   "application/vnd.jupyter.widget-state+json": {
    "state": {},
    "version_major": 2,
    "version_minor": 0
   }
  }
 },
 "nbformat": 4,
 "nbformat_minor": 4
}
