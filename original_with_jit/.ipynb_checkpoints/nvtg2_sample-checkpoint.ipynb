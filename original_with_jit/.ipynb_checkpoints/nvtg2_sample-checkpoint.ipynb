{
 "cells": [
  {
   "cell_type": "markdown",
   "metadata": {},
   "source": [
    "### System setup: object instantiation "
   ]
  },
  {
   "cell_type": "code",
   "execution_count": 5,
   "metadata": {
    "scrolled": false
   },
   "outputs": [
    {
     "name": "stdout",
     "output_type": "stream",
     "text": [
      "# number of boxes mx = 2, my = 4, mz = 4\n",
      "# mean (kinetic) temperature kt =   0.7000 \n",
      "# integration time step dt =   0.0050\n",
      "# number of time steps for this run nstep = 10\n",
      "# creating EQ object, cpu =   0.0003\n",
      "# sides of the rectangular MD-box L = [   6.3838  12.7677  12.7677 ]\n",
      "# number of particles  N = 512\n",
      "# density rho =   0.9840   (  0.9840)\n",
      "# potential cut-off radius  rcut =   3.0000 *sigma\n",
      "# lateral size of slicing Deltaz =   1.5960\n"
     ]
    }
   ],
   "source": [
    "from numpy import zeros, pi, sin, cos, empty, array, float64\n",
    "#original \n",
    "from nvtg2_lj import LJ\n",
    "from nvtg_write import *\n",
    "from time import process_time\n",
    "from  pickle import dump, load, HIGHEST_PROTOCOL\n",
    "\n",
    "# from numba import jit\n",
    "if __name__ == \"__main__\":\n",
    "    dir=\"./RUN/\"\n",
    "# r-parameters # defaults\n",
    "    rho  = 0.984   #  density of the solid phase\n",
    "    mx   = 2#6       #  number of cells along x\n",
    "    my   = 2+2#6 + 2    #  number of cells along y\n",
    "    mz   = 2+2 #12+ 2   #  number of cells along z\n",
    "    kt   = 0.7     #  temperature\n",
    "    dk0  = 0.00    #  delta T at equilibrium\n",
    "    dkt  = 0.70    #  delta T for melting region\n",
    "    dt   = 0.005   #  timestep (LJ units)\n",
    "    gforce = -0.1  #  vaule of gravity field\n",
    "    freq =  2      #  printing frequency\n",
    "    lther=  3      #  width of thermostat region\n",
    "    nstep= 10      #  number of multiples of 'freq' time steps \n",
    "    pfile = dir + \"fccmd.pickle\"\n",
    "    print( \"# number of boxes mx = %d, my = %d, mz = %d\" % (mx, my, mz) )\n",
    "    print( \"# mean (kinetic) temperature kt = %8.4f \" % (kt) )\n",
    "    print( \"# integration time step dt = %8.4f\" % dt )\n",
    "    print( \"# number of time steps for this run nstep = %d\" % (nstep) )    \n",
    "    t0 = process_time()\n",
    "    IN = LJ(rho, mx, my, mz, gforce, nstep*freq)\n",
    "    print(\"# creating EQ object, cpu = %8.4f\" % (process_time()-t0) )\n",
    "    N = IN.npart\n",
    "    Na = 3*N // 25\n",
    "    rhofact = IN.lb / (IN.Lx * IN.Ly * IN.Lz)\n",
    "    print( \"# sides of the rectangular MD-box L = [ %8.4f %8.4f %8.4f ]\" % (IN.Lx, IN.Ly, IN.Lz) )\n",
    "    print( \"# number of particles  N = %d\" % N)\n",
    "    print( \"# density rho = %8.4f   (%8.4f)\" % (IN.rho, rho))\n",
    "    print( \"# potential cut-off radius  rcut = %8.4f *sigma\" % IN.rcut)\n",
    "    print( \"# lateral size of slicing Deltaz = %8.4f\" % (IN.Lz / IN.lb))"
   ]
  },
  {
   "cell_type": "code",
   "execution_count": 6,
   "metadata": {},
   "outputs": [
    {
     "name": "stdout",
     "output_type": "stream",
     "text": [
      "# lattice lenghts (ax,ay,az) = (1.5959586353904496, 1.5959586353904496, 1.5959586353904496)\n",
      "# (mx, my, mz) = (4, 4, 8)\n",
      "# number of lattice cells = 128\n",
      "# number of particles = 512\n",
      "# md-box sides [Lx, Ly, Lz ]= (6.383834541561798, 12.767669083123597, 12.767669083123597)\n",
      "# end of initial fcc lattice construction npart = 512\n"
     ]
    }
   ],
   "source": [
    "    # starting from (fcc) lattice\n",
    "    IN.fcc()\n",
    "    pas = 0\n",
    "    #write_input(IN, N, pas, conf_out=dir+\"conf_fcc0984.b\")\n",
    "    writexyz(IN, N, Na)"
   ]
  },
  {
   "cell_type": "code",
   "execution_count": 5,
   "metadata": {},
   "outputs": [
    {
     "name": "stdout",
     "output_type": "stream",
     "text": [
      "test 1 -3559.990417326819 -6216.202546526974\n",
      "test 2 -510.2351091387139 -266.6889277837995\n",
      "# velocities sampled from maxwell distribution at timestep 0\n",
      "# initial conditions step = 0, cpu =   3.6757\n"
     ]
    }
   ],
   "source": [
    "    mode=2\n",
    "    #pas = read_input(IN, N, conf_in=dir+\"conf_fcc0984.b\")\n",
    "    t0 = process_time()    \n",
    "    (enep, enek, virial, vcmx, vcmy, vcmz) = IN.eqmdi( N, Na, mx, my, mz, kt, pas, mode)\n",
    "    print( \"# initial conditions step = %d, cpu = %8.4f\" % (pas, process_time()-t0) )"
   ]
  },
  {
   "cell_type": "code",
   "execution_count": 14,
   "metadata": {},
   "outputs": [],
   "source": [
    "    write_input(IN, N, nstep, conf_out=dir+\"conf_fcc0984.b\")"
   ]
  },
  {
   "cell_type": "code",
   "execution_count": 15,
   "metadata": {},
   "outputs": [
    {
     "name": "stdout",
     "output_type": "stream",
     "text": [
      "# starting eqmd trajectory\n",
      "\n",
      "    'pas'   'enep'     'enek'   'enet'      'virial'   'vcm' \n",
      "      0.00   -6.9534    1.0556   -5.8978359  -12.138     -1.1e-15 7.6e-14 1.5e-14\n",
      "      0.01   -6.9350    1.0368   -5.8982047  -11.749     -6.4e-15   -0.33 1.3e-14\n",
      "      0.02   -6.8812    0.9814   -5.8997421  -10.712      2.1e-14   -0.73 1.6e-14\n",
      "      0.03   -6.7930    0.8907   -5.9023871   -9.112      6.8e-14    -1.1 1.5e-14\n",
      "      0.04   -6.6758    0.7698   -5.9060124   -7.049      2.6e-15    -1.5 -7.1e-16\n",
      "      0.05   -6.5424    0.6320   -5.9103937   -4.752      3.4e-14    -1.8 8.1e-15\n",
      "      0.06   -6.4146    0.4994   -5.9152225   -2.573        4e-14      -2 7.1e-15\n",
      "      0.07   -6.3166    0.3965   -5.9200589   -0.895      3.1e-14    -2.1 1.8e-15\n",
      "      0.08   -6.2633    0.3390   -5.9243014    0.052      5.4e-14    -2.2 -1.4e-14\n",
      "      0.09   -6.2536    0.3262   -5.9274346    0.279      3.3e-14    -2.4   1e-14\n",
      "      0.10   -6.2746    0.3453   -5.9293283   -0.016      2.8e-14    -2.9 6.3e-15\n",
      "# (IN)-Equilibrium run, cpu =   3.6083\n",
      "# ending initial equilibrium run  <ep>=-6709.0  <ek>=654.6196   T=   0.427  P=-5071.952\n",
      "\n"
     ]
    }
   ],
   "source": [
    "    nstep= 10      #  number of multiples of 'freq' time steps \n",
    "    # Equilibrium run with temperature from maxwellian sampling\n",
    "    print(\"# starting eqmd trajectory\\n\")\n",
    "    print( \"    'pas'   'enep'     'enek'   'enet'      'virial'   'vcm' \")\n",
    "    print(\" %9.2f %9.4f %9.4f %12.7f %8.3f %12.2g %7.2g %7.2g\" % (pas*dt,enep, enek, enep+enek, virial, vcmx, vcmy, vcmz) )\n",
    "    t0 = process_time()\n",
    "    for it in range(nstep):\n",
    "        (t, enep, enek, virial, vcmx, vcmy, vcmz) = IN.eqmdr( N, Na, mx, my, mz, kt, pas, dt, freq)\n",
    "        print(\" %9.2f %9.4f %9.4f %12.7f %8.3f %12.2g %7.2g %7.2g\" % (t,enep, enek, enep+enek, virial, vcmx, vcmy, vcmz) )\n",
    "        pas += freq    \n",
    "    print( \"# (IN)-Equilibrium run, cpu = %8.4f\" % (process_time()-t0) )\n",
    "    g=3*N-3\n",
    "    nstep *= freq\n",
    "    print( \"# ending initial equilibrium run  <ep>=%6.1f  <ek>=%7.4f   T=%8.3f  P=%8.3f\\n\" % ( IN.ept/nstep, IN.ekt/nstep, 2.*IN.ekt/(nstep*g), IN.pres/nstep) )\n",
    "    # final positions and momenta to file conf_in.b\n",
    "    write_input(IN, N, nstep, conf_out=dir+\"conf_eg0984.b\")\n",
    "    writexyz(IN, N, Na)"
   ]
  },
  {
   "cell_type": "code",
   "execution_count": null,
   "metadata": {},
   "outputs": [],
   "source": [
    "    freq = 20\n",
    "    nstep= 10       #  number of multiples of 'freq' time steps \n",
    "    mode = 2\n",
    "    print(\"check gforce=\",IN.gforce)\n",
    "    t0 = process_time()    \n",
    "    pas = read_input(IN, N, conf_in=dir+\"conf_eg0984.b\")\n",
    "    (enep, enek, virial, vcmx, vcmy, vcmz) = IN.eqmdi( N, Na, mx, my, mz, kt, pas, mode)\n",
    "    print( \"# initial conditions step = %d, cpu = %8.4f\" % (pas, process_time()-t0) )    \n",
    "    # Equilibrium run with temperature from maxwellian sampling\n",
    "    print(\"# starting eqmd trajectory\\n\")\n",
    "    print( \"    'pas'   'enep'     'enek'   'enet'      'virial'   'vcm' \")\n",
    "    print(\"%8.2f  %9.4f %9.4f %12.7f %8.3f %12.2g %7.2g %7.2g\" % (pas*dt,enep, enek, enep+enek, virial, vcmx, vcmy, vcmz) )\n",
    "    t0 = process_time()\n",
    "    for it in range(nstep):\n",
    "        (t, enep, enek, virial, vcmx, vcmy, vcmz) = IN.eqmdr( N, Na, mx, my, mz, kt, pas, dt, freq)\n",
    "        print(\"%8.2f  %9.4f %9.4f %12.7f %8.3f %12.2g %7.2g %7.2g\" % (t,enep, enek, enep+enek, virial, vcmx, vcmy, vcmz) )\n",
    "        pas += freq    \n",
    "    print( \"# (IN)-Equilibrium run, cpu = %8.4f\" % (process_time()-t0) )\n",
    "    g=3*N-3\n",
    "    nstep *= freq\n",
    "    print( \"# ending initial equilibrium run  <ep>=%6.1f  <ek>=%7.4f   T=%8.3f  P=%8.3f\\n\" % ( IN.ept/nstep, IN.ekt/nstep, 2.*IN.ekt/(nstep*g), IN.pres/nstep) )\n",
    "    # final positions and momenta to file conf_in.b\n",
    "    write_input(IN, N, nstep, conf_out=dir+\"conf_eg0984.b\")\n",
    "    writexyz(IN, N, Na)"
   ]
  },
  {
   "cell_type": "code",
   "execution_count": null,
   "metadata": {
    "scrolled": false
   },
   "outputs": [],
   "source": [
    "    freq = 20\n",
    "    nstep= 50      #  number of multiples of 'freq' time steps \n",
    "    mode = 1\n",
    "    # Xe 1.115\n",
    "    pfile = dir + \"eqmd.pickle\"\n",
    "    print( \"# number of boxes mx = %d, my = %d, mz = %d\" % (mx, my, mz) )\n",
    "    print( \"# mean (kinetic) temperature kt = %8.4f  delta kt= %8.4f\" % (kt, dkt) )\n",
    "    print( \"# integration time step dt = %8.4f\" % dt )\n",
    "    print( \"# number of time steps for this run nst = %d \" % (nstep) )    \n",
    "    if mode == 1:\n",
    "        t0 = process_time()\n",
    "        EQ = LJ(rho, mx, my, mz, gforce, nstep*freq)\n",
    "        print(\"# creating NE object, cpu = %8.4f\" % (process_time()-t0) )\n",
    "        N = EQ.npart\n",
    "        Na = 3*N // 25\n",
    "        print( \"# sides of the rectangular MD-box L = [ %8.4f %8.4f %8.4f ]\" % (EQ.Lx, EQ.Ly, EQ.Lz) )\n",
    "        print( \"# number of particles  N = %d\" % N)\n",
    "        print( \"# density rho = %8.4f   (%8.4f)\" % (EQ.rho, rho) )\n",
    "        print( \"# potential cut-off radius  rcut = %8.4f *sigma\" % EQ.rcut)\n",
    "        print( \"# lateral size of slicing Deltaz = %8.4f\" % (EQ.Lz / EQ.lb))\n",
    "        # initial equilibrated condition\n",
    "        t0 = process_time()\n",
    "        estep = read_input(EQ, N, conf_in=dir+\"conf_eg0984.b\")\n",
    "        print(\"# initial conditions, cpu = %8.4f\" % (process_time()-t0) )\n",
    "        # Non-Equilibrium run with temperature gradient\n",
    "        t0 = process_time()\n",
    "        pas= 0\n",
    "        (enep, enek, etot, heat0, heat1, vcmx, vcmy, vcmz) = EQ.nemdi( N, Na, mx, my, mz, kt, dk0, pas, lther)\n",
    "        print(\"# starting dnemd trajectory\\n\")\n",
    "        print( \"    'pas'   'enep'     'enek'   'enet'      'heatin - heatout'   'vcm' \")\n",
    "        print(\"%8.2f  %9.4f %9.4f %12.7f %8.3f %8.3f %12.2g %7.2g %7.2g\" % (0.,enep, enek, etot, heat0, heat1, vcmx, vcmy, vcmz) )\n",
    "        for it in range(nstep):\n",
    "            (t, enep, enek, etot, heat0, heat1, vcmx, vcmy, vcmz) = EQ.nemdr( N, Na, mx, my, mz, kt, dk0, pas, dt, freq, lther)\n",
    "            print(\"%8.2f  %9.4f %9.4f %12.7f %8.3f %8.3f %12.2g %7.2g %7.2g\" % (t,enep, enek, etot, heat0, heat1, vcmx, vcmy, vcmz) )\n",
    "            pas += freq    \n",
    "        print( \"# (NE)-Equilibrium run, cpu = %8.4f\" % (process_time()-t0) )\n",
    "        g=3*N-3\n",
    "        nstep *= freq\n",
    "        print( \"# ending ne-md equilibrium trajectory  <ep>=%6.1f  <ek>=%7.4f   T=%8.3f  P=%8.3f\\n\" % ( EQ.ept/nstep, EQ.ekt/nstep, 2.*EQ.ekt/(nstep*g), EQ.pres/nstep) )\n",
    "    # final positions and momenta to file conf_in.b\n",
    "        write_input(EQ, N, nstep, conf_out=dir+\"conf_eg0984.b\")\n",
    "        # saving with pickle\n",
    "        with open(pfile, 'wb') as ftrj:\n",
    "            rhofact = EQ.lb / (EQ.Lx * EQ.Ly * EQ.Lz)\n",
    "            dump( (dkt,rhofact,id) , ftrj, HIGHEST_PROTOCOL)\n",
    "            dump( (EQ.heatt,EQ.hstat,EQ.hstbt,EQ.enet,EQ.enkat,EQ.enkbt,EQ.jmazt,EQ.gzt,EQ.jezt), ftrj, HIGHEST_PROTOCOL)"
   ]
  },
  {
   "cell_type": "code",
   "execution_count": null,
   "metadata": {},
   "outputs": [],
   "source": [
    "    writexyz(IN, N, Na)"
   ]
  },
  {
   "cell_type": "markdown",
   "metadata": {},
   "source": [
    "## Non-equilibrium dynamics"
   ]
  },
  {
   "cell_type": "code",
   "execution_count": null,
   "metadata": {
    "scrolled": false
   },
   "outputs": [],
   "source": [
    "from numpy import zeros, pi, sin, cos, empty, array, float64\n",
    "from nvtg2_lj import LJ\n",
    "from nvtg_write import *\n",
    "from time import process_time\n",
    "from  pickle import dump, load, HIGHEST_PROTOCOL\n",
    "\n",
    "# from numba import jit\n",
    "if __name__ == \"__main__\":\n",
    "    dir=\"./RUN/\"\n",
    "    pfile = dir + \"ngmdA.pickle\"\n",
    "# r-parameters     # defaults\n",
    "    nstep= 200     #  number of multiples of 'freq' time steps \n",
    "    rho  = 0.984   #  density of the solid phase\n",
    "    mx   = 6       #  number of cells along x\n",
    "    my   = 6 + 2   #  number of cells along y\n",
    "    mz   = 12+ 2   #  number of cells along z\n",
    "    kt   = 0.7     #  temperature\n",
    "    dk0  = 0.00    #  delta T at equilibrium\n",
    "    dkt  = 0.70    #  delta T for melting region\n",
    "    dt   = 0.005   #  timestep (LJ units)\n",
    "    gforce = -0.1  #  vaule of gravity field\n",
    "    freq = 10      #  printing frequency\n",
    "    lther=  3      #  width of thermostat region\n",
    "    mode = 1\n",
    "    print( \"# number of boxes mx = %d, my = %d, mz = %d\" % (mx, my, mz) )\n",
    "    print( \"# base (kinetic) temperature kt = %8.4f  delta kt= %8.4f\" % (kt, dkt) )\n",
    "    print( \"# integration time step dt = %8.4f\" % dt )\n",
    "    print( \"# number of time steps for this run nst = %d \" % (nstep) )    \n",
    "    with open(dir+\"trajectoryAg.xyz\", 'w') as dumpf:\n",
    "        t0 = process_time()\n",
    "        NE = LJ(rho, mx, my, mz, gforce, nstep*freq)\n",
    "        print(\"# creating NE object, cpu = %8.4f\" % (process_time()-t0) )\n",
    "        N = NE.npart\n",
    "        Na = 3*N // 25\n",
    "        rhofact = NE.lb / (NE.Lx * NE.Ly * NE.Lz)\n",
    "        print( \"# sides of the rectangular MD-box L = [ %8.4f %8.4f %8.4f ]\" % (NE.Lx, NE.Ly, NE.Lz) )\n",
    "        print( \"# number of particles  N = %d\" % N)\n",
    "        print( \"# density rho = %8.4f   (%8.4f)\" % (NE.rho, rho) )\n",
    "        print( \"# potential cut-off radius  rcut = %8.4f *sigma\" % NE.rcut)\n",
    "        print( \"# lateral size of slicing Deltaz = %8.4f\" % (NE.Lz / NE.lb))\n",
    "        # initial equilibrated condition\n",
    "        t0 = process_time()\n",
    "        estep = read_input(NE, N, conf_in=dir+\"conf_eg0984.b\")\n",
    "        print(\"# initial conditions, cpu = %8.4f\" % (process_time()-t0) )\n",
    "        # Non-Equilibrium run with hot thermostat region\n",
    "        t0 = process_time()\n",
    "        pas= 0\n",
    "        dumpxyz(NE, N, Na, pas, dumpf)\n",
    "        (enep, enek, etot, heat0, heat1, vcmx, vcmy, vcmz) = NE.nemdi( N, Na, mx, my, mz, kt, dkt, pas, lther )\n",
    "        print(\"# starting dnemd trajectory\\n\")\n",
    "        print( \"    'pas'   'enep'     'enek'   'enet'      'heatin - heatout'   'vcm' \")\n",
    "        print(\"%8.2f  %9.4f %9.4f %12.7f %8.3f %8.3f %12.2g %7.2g %7.2g\" % (0.,enep, enek, etot, heat0, heat1, vcmx, vcmy, vcmz) )\n",
    "        for it in range(nstep):\n",
    "            (t, enep, enek, etot, heat0, heat1, vcmx, vcmy, vcmz) = NE.nemdr( N, Na, mx, my, mz, kt, dkt, pas, dt, freq, lther )\n",
    "            print(\"%8.2f  %9.4f %9.4f %12.7f %8.3f %8.3f %12.2g %7.2g %7.2g\" % (t,enep, enek, etot, heat0, heat1, vcmx, vcmy, vcmz) )\n",
    "            pas += freq\n",
    "            # writing \n",
    "            dumpxyz(NE, N, Na, pas, dumpf)\n",
    "    print( \"# Non-Equilibrium run, cpu = %8.4f\" % (process_time()-t0) )\n",
    "    g=3*N-3\n",
    "    nstep *= freq\n",
    "    print( \"# ending ne-md trajectory  <ep>=%6.1f  <ek>=%7.4f   T=%8.3f  P=%8.3f\\n\" % ( NE.ept/nstep, NE.ekt/nstep, 2.*NE.ekt/(nstep*g), NE.pres/nstep) )\n",
    "    # final positions and momenta to file conf_in.b\n",
    "    write_input(NE, N, nstep, conf_out=dir+\"conf_ng0984.b\")\n",
    "    # saving with pickle\n",
    "    with open(pfile, 'wb') as ftrj:\n",
    "        rhofact = NE.lb / (NE.Lx * NE.Ly * NE.Lz)\n",
    "        dump( (dkt,rhofact,id) , ftrj, HIGHEST_PROTOCOL)\n",
    "        dump( (NE.heatt,NE.hstat,NE.hstbt,NE.enet,NE.enkat,NE.enkbt,NE.jmazt,NE.gzt,NE.jezt), ftrj, HIGHEST_PROTOCOL)\n"
   ]
  },
  {
   "cell_type": "markdown",
   "metadata": {},
   "source": [
    "### second part of trajectory"
   ]
  },
  {
   "cell_type": "code",
   "execution_count": null,
   "metadata": {
    "scrolled": false
   },
   "outputs": [],
   "source": [
    "if __name__ == \"__main__\":\n",
    "    dir=\"./RUN/\"\n",
    "    pfile = dir + \"ngmdB.pickle\"\n",
    "# r-parameters  # defaults\n",
    "    nstep= 1000  #  number of multiples of 'freq' time steps \n",
    "    freq = 200  #  2000\n",
    "    print( \"# number of boxes mx = %d, my = %d, mz = %d\" % (mx, my, mz) )\n",
    "    print( \"# base (kinetic) temperature kt = %8.4f  delta kt= %8.4f\" % (kt, dkt) )\n",
    "    print( \"# integration time step dt = %8.4f\" % dt )\n",
    "    print( \"# number of time steps for this run nst = %d \" % (nstep) )    \n",
    "    with open(dir+\"trajectoryBg.xyz\", 'w') as dumpf:\n",
    "        t0 = process_time()\n",
    "        NE = LJ(rho, mx, my, mz, gforce, nstep*freq)\n",
    "        print(\"# creating NE object, cpu = %8.4f\" % (process_time()-t0) )\n",
    "        N = NE.npart\n",
    "        Na = 3*N // 25\n",
    "        rhofact = NE.lb / (NE.Lx * NE.Ly * NE.Lz)\n",
    "        print( \"# sides of the rectangular MD-box L = [ %8.4f %8.4f %8.4f ]\" % (NE.Lx, NE.Ly, NE.Lz) )\n",
    "        print( \"# number of particles  N = %d\" % N)\n",
    "        print( \"# density rho = %8.4f   (%8.4f)\" % (NE.rho, rho) )\n",
    "        print( \"# potential cut-off radius  rcut = %8.4f *sigma\" % NE.rcut)\n",
    "        print( \"# lateral size of slicing Deltaz = %8.4f\" % (NE.Lz / NE.lb))\n",
    "        # initial equilibrated condition\n",
    "        t0 = process_time()\n",
    "        estep = read_input(NE, N, conf_in=dir+\"conf_ng0984.b\")\n",
    "        print(\"# initial conditions, cpu = %8.4f\" % (process_time()-t0) )\n",
    "        # Non-Equilibrium run with temperature gradient\n",
    "        t0 = process_time()\n",
    "        pas= 0\n",
    "        dumpxyz(NE, N, Na, pas, dumpf)\n",
    "        (enep, enek, etot, heat0, heat1, vcmx, vcmy, vcmz) = NE.nemdi( N, Na, mx, my, mz, kt, dkt, pas, lther )\n",
    "        print(\"# starting dnemd trajectory\\n\")\n",
    "        print( \"    'pas'   'enep'     'enek'   'enet'      'heatin - heatout'   'vcm' \")\n",
    "        print(\" %10.1f %9.4f %9.4f %12.7f %8.3f %8.3f %12.2g %7.2g %7.2g\" % (0.,enep, enek, etot, heat0, heat1, vcmx, vcmy, vcmz) )\n",
    "        for it in range(nstep):\n",
    "            (t, enep, enek, etot, heat0, heat1, vcmx, vcmy, vcmz) = NE.nemdr( N, Na, mx, my, mz, kt, dkt, pas, dt, freq, lther )\n",
    "            print(\" %10.1f %9.4f %9.4f %12.7f %8.3f %8.3f %12.2g %7.2g %7.2g\" % (t,enep, enek, etot, heat0, heat1, vcmx, vcmy, vcmz) )\n",
    "            pas += freq\n",
    "            # writing \n",
    "            dumpxyz(NE, N, Na, pas, dumpf)\n",
    "    print( \"# Non-Equilibrium run, cpu = %8.4f\" % (process_time()-t0) )\n",
    "    g=3*N-3\n",
    "    nstep *= freq\n",
    "    print( \"# ending ne-md trajectory  <ep>=%6.1f  <ek>=%7.4f   T=%8.3f  P=%8.3f\\n\" % ( NE.ept/nstep, NE.ekt/nstep, 2.*NE.ekt/(nstep*g), NE.pres/nstep) )\n",
    "    # final positions and momenta to file conf_in.b\n",
    "    write_input(NE, N, nstep, conf_out=dir+\"conf_ng0984.b\")\n",
    "    # saving with pickle\n",
    "    with open(pfile, 'wb') as ftrj:\n",
    "        rhofact = NE.lb / (NE.Lx * NE.Ly * NE.Lz)\n",
    "        dump( (dkt,rhofact,id) , ftrj, HIGHEST_PROTOCOL)\n",
    "        dump( (NE.heatt,NE.hstat,NE.hstbt,NE.enet,NE.enkat,NE.enkbt,NE.jmazt,NE.gzt,NE.jezt), ftrj, HIGHEST_PROTOCOL)\n"
   ]
  }
 ],
 "metadata": {
  "kernelspec": {
   "display_name": "Python 3 (ipykernel)",
   "language": "python",
   "name": "python3"
  },
  "language_info": {
   "codemirror_mode": {
    "name": "ipython",
    "version": 3
   },
   "file_extension": ".py",
   "mimetype": "text/x-python",
   "name": "python",
   "nbconvert_exporter": "python",
   "pygments_lexer": "ipython3",
   "version": "3.9.12"
  }
 },
 "nbformat": 4,
 "nbformat_minor": 2
}
